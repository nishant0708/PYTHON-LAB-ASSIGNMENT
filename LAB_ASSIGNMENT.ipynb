{
  "nbformat": 4,
  "nbformat_minor": 0,
  "metadata": {
    "colab": {
      "provenance": [],
      "authorship_tag": "ABX9TyONYU0WYDhb61DFYqwnGQin",
      "include_colab_link": true
    },
    "kernelspec": {
      "name": "python3",
      "display_name": "Python 3"
    },
    "language_info": {
      "name": "python"
    }
  },
  "cells": [
    {
      "cell_type": "markdown",
      "metadata": {
        "id": "view-in-github",
        "colab_type": "text"
      },
      "source": [
        "<a href=\"https://colab.research.google.com/github/nishant0708/PYTHON-LAB-ASSIGNMENT/blob/main/LAB_ASSIGNMENT.ipynb\" target=\"_parent\"><img src=\"https://colab.research.google.com/assets/colab-badge.svg\" alt=\"Open In Colab\"/></a>"
      ]
    },
    {
      "cell_type": "markdown",
      "source": [
        "Q1"
      ],
      "metadata": {
        "id": "Qup9bxRAwnq5"
      }
    },
    {
      "cell_type": "code",
      "source": [
        "a=5\n",
        "b=8\n",
        "c=15\n",
        "d=8\n",
        "print(a,b,c,d)\n",
        "print(\"sum a and b is\",a+b)\n",
        "print(\"sub c and b is:\",c-b)\n",
        "print(\"div of a and c:\",c/a)\n",
        "print(\"mul of a and d :\", a*d)\n",
        "print (\"rem of a and d:\",d%a)\n",
        "print(\"quotient of d/a is:\",d//a)\n",
        "\n",
        "if(a >b): print(\"a is greater than b\")\n",
        "if(a<d) : print(\"a is less than d\")\n",
        "if(b==d): print(\"b is equal to d\")\n",
        "if(b!=c) : print(\"b is not equal to c\")\n",
        "if(d>b or d>a):print(\"d is  greater than either a or b\")\n",
        "if(d>a and d==b): print(\"d and b is equal and greater than a\")\n"
      ],
      "metadata": {
        "colab": {
          "base_uri": "https://localhost:8080/"
        },
        "id": "JKeayxozwl6T",
        "outputId": "f4a907c6-aa30-4dd8-e654-0f6764c4affc"
      },
      "execution_count": null,
      "outputs": [
        {
          "output_type": "stream",
          "name": "stdout",
          "text": [
            "5 8 15 8\n",
            "sum a and b is 13\n",
            "sub c and b is: 7\n",
            "div of a and c: 3.0\n",
            "mul of a and d : 40\n",
            "rem of a and d: 3\n",
            "quotient of d/a is: 1\n",
            "a is less than d\n",
            "b is equal to d\n",
            "b is not equal to c\n",
            "d is  greater than either a or b\n",
            "d and b is equal and greater than a\n"
          ]
        }
      ]
    },
    {
      "cell_type": "markdown",
      "source": [
        "Q2\n",
        "\n"
      ],
      "metadata": {
        "id": "V9Z-G50rxDve"
      }
    },
    {
      "cell_type": "code",
      "source": [
        "print(\"\")\n",
        "a=int(input(\"input number to check even or odd:\"))\n",
        "print(\"\\n\")\n",
        "if (a%2==0):\n",
        "    print(str(a)+\" is even number\")\n",
        "else:\n",
        "    print(str(a)+\" is odd number\")"
      ],
      "metadata": {
        "id": "OSvE1aLHyASp"
      },
      "execution_count": null,
      "outputs": []
    },
    {
      "cell_type": "markdown",
      "source": [
        "Q3 (1)"
      ],
      "metadata": {
        "id": "uvfR9wDuxOHH"
      }
    },
    {
      "cell_type": "code",
      "source": [
        "a=int(input(\"input number 1: \\n\"))\n",
        "b=int(input(\"input number 2: \\n\"))\n",
        "\n",
        "if(a>b):\n",
        "    print(str(a)+\" is greater than \"+str(b))\n",
        "else:\n",
        "     print(str(b)+\" is greater than \"+str(a))"
      ],
      "metadata": {
        "id": "zL8AikzQyC_C"
      },
      "execution_count": null,
      "outputs": []
    },
    {
      "cell_type": "markdown",
      "source": [
        "Q3 (2)"
      ],
      "metadata": {
        "id": "2okhDpiAxXkI"
      }
    },
    {
      "cell_type": "code",
      "source": [
        "a=int(input(\"input number 1: \\n\"))\n",
        "b=int(input(\"input number 2: \\n\"))\n",
        "c=int(input(\"input number 3: \\n\"))\n",
        "\n",
        "if(a>b and a>c):\n",
        "    print(str(a)+\" is greater than \"+str(b)+\" \"+str(c))\n",
        "elif(b>a and b>c):\n",
        "     print(str(b)+\" is greater than \"+str(a)+\" \"+str(c))\n",
        "\n",
        "else:\n",
        "   print(str(c)+\" is greater than \"+str(a)+\" \"+str(b))"
      ],
      "metadata": {
        "id": "Z7YLNSbHyHOR"
      },
      "execution_count": null,
      "outputs": []
    },
    {
      "cell_type": "markdown",
      "source": [
        "Q4"
      ],
      "metadata": {
        "id": "3AdGSck-xchD"
      }
    },
    {
      "cell_type": "code",
      "source": [
        "a=int(input(\"enter number: \\n\"))\n",
        "x=False\n",
        "if(a==1):\n",
        "    print(\"composite number\")\n",
        "elif(a>1):\n",
        "    for i in range(2,a):\n",
        "           if(a%i==0):\n",
        "            x=True\n",
        "            break;\n",
        "\n",
        "    if x:\n",
        "     print(\"composite number\")\n",
        "    else:\n",
        "     print(\"prime number\")"
      ],
      "metadata": {
        "id": "Gea6uORjyMhI"
      },
      "execution_count": null,
      "outputs": []
    },
    {
      "cell_type": "markdown",
      "source": [
        "Q5"
      ],
      "metadata": {
        "id": "KFoxGSbUxed9"
      }
    },
    {
      "cell_type": "code",
      "source": [
        "a=int(input(\"input range to check even or odd:\"))\n",
        "print(\"\\n\")\n",
        "for i in range(1,a+1):\n",
        "    if(i%2==0):\n",
        "        print(str(i)+\" is even\")\n",
        "    else:\n",
        "         print(str(i)+\" is odd\")\n",
        "        \n"
      ],
      "metadata": {
        "id": "hcgM_EHEyU2G"
      },
      "execution_count": null,
      "outputs": []
    },
    {
      "cell_type": "markdown",
      "source": [
        "Q6"
      ],
      "metadata": {
        "id": "Aw3aJCtexfgE"
      }
    },
    {
      "cell_type": "code",
      "source": [
        "a=int(input(\"enter the number:\"))\n",
        "flag=True;\n",
        "\n",
        "for i in range (1,a+1):\n",
        "    if(i==1):\n",
        "        print(i,\"is a composite no.\")\n",
        "    elif(i>1):\n",
        "        for x in range(2,i):\n",
        "             if(i%x==0):\n",
        "                flag=False\n",
        "                break\n",
        "    \n",
        "        if(flag):\n",
        "            print(i,\"is a prime no.\")\n",
        "        else:\n",
        "            print(i,\"is a composite no.\")\n",
        "\n",
        "        flag=True\n",
        "\n",
        "\n",
        "\n",
        "    \n"
      ],
      "metadata": {
        "id": "2V1ooVK6ydrJ"
      },
      "execution_count": null,
      "outputs": []
    },
    {
      "cell_type": "markdown",
      "source": [
        "Q7"
      ],
      "metadata": {
        "id": "wXs7GzfXxgcD"
      }
    },
    {
      "cell_type": "code",
      "source": [
        "a=int(input());\n",
        "ans=0\n",
        "while (a>0):\n",
        "    z=a%10\n",
        "    ans=ans*10+z\n",
        "    a=a//10\n",
        "\n",
        "print(ans)\n"
      ],
      "metadata": {
        "id": "Tqh6GuUEyfkK"
      },
      "execution_count": null,
      "outputs": []
    },
    {
      "cell_type": "markdown",
      "source": [
        "Q8"
      ],
      "metadata": {
        "id": "Y57tpxWZxhfa"
      }
    },
    {
      "cell_type": "code",
      "source": [
        "a=int(input());\n",
        "t=a\n",
        "ans=0\n",
        "while (a>0):\n",
        "    z=a%10\n",
        "    ans=ans*10+z\n",
        "    a=a//10\n",
        "\n",
        "if(t==ans):\n",
        "    print(t,\"is a palindrome number\")\n",
        "else:\n",
        "    print(t,\"is not a palindrome number\")\n",
        "\n",
        "\n"
      ],
      "metadata": {
        "id": "oSVDT3wGyicb"
      },
      "execution_count": null,
      "outputs": []
    },
    {
      "cell_type": "markdown",
      "source": [
        "Q9"
      ],
      "metadata": {
        "id": "EQyNUnOTxidU"
      }
    },
    {
      "cell_type": "code",
      "source": [
        "a=int(input())\n",
        "z=a\n",
        "x=0\n",
        "y=0\n",
        "while(a>0):\n",
        "     w=a%10\n",
        "     x+=w**3\n",
        "     a=a//10\n",
        "if(x==z):\n",
        "    print(\"arms\")\n",
        "else:\n",
        "    print(\"no arms\")\n",
        "\n"
      ],
      "metadata": {
        "id": "SI0ZbakCyjJh"
      },
      "execution_count": null,
      "outputs": []
    },
    {
      "cell_type": "markdown",
      "source": [
        "Q10"
      ],
      "metadata": {
        "id": "5RMMzDB-xjn1"
      }
    },
    {
      "cell_type": "code",
      "source": [
        "a=int(input())\n",
        "\n",
        "\n",
        "for i in range(1,a+1):\n",
        "    order=len(str(i))\n",
        "    x=0\n",
        "    y=i\n",
        "    while(y>0):\n",
        "        z=y%10\n",
        "        x+=z**order\n",
        "        y=y//10\n",
        "    if(x==i):\n",
        "        print(i)\n",
        "    \n",
        "\n"
      ],
      "metadata": {
        "id": "HIxWQY4syxUA"
      },
      "execution_count": null,
      "outputs": []
    },
    {
      "cell_type": "markdown",
      "source": [
        "Q11"
      ],
      "metadata": {
        "id": "rgvesDlOxkvr"
      }
    },
    {
      "cell_type": "code",
      "source": [
        "a=int(input(\"enter number:\"))\n",
        "sum=0\n",
        "for i in range(1,a+1):\n",
        "    sum+=i\n",
        "print(sum)"
      ],
      "metadata": {
        "id": "vg0ULLh4y9-q"
      },
      "execution_count": null,
      "outputs": []
    },
    {
      "cell_type": "markdown",
      "source": [
        "Q12"
      ],
      "metadata": {
        "id": "RldzGYVPxluu"
      }
    },
    {
      "cell_type": "code",
      "source": [
        "x=int(input())\n",
        "ans=1\n",
        "while(x>0):\n",
        "    ans*=x\n",
        "    x=x-1\n",
        "print(ans)\n"
      ],
      "metadata": {
        "id": "G9npV_L0y--x"
      },
      "execution_count": null,
      "outputs": []
    },
    {
      "cell_type": "markdown",
      "source": [
        "Q13"
      ],
      "metadata": {
        "id": "xd92YzRpxmto"
      }
    },
    {
      "cell_type": "code",
      "source": [
        "n=int(input())\n",
        "x=1\n",
        "y=1\n",
        "print(x)\n",
        "print(y)\n",
        "\n",
        "i=2\n",
        "\n",
        "while(i<n):\n",
        "    z=x+y\n",
        "    print(z)\n",
        "    x=y\n",
        "    y=z\n",
        "    i=i+1\n",
        "\n"
      ],
      "metadata": {
        "id": "B3YESrSlzEZ_"
      },
      "execution_count": null,
      "outputs": []
    },
    {
      "cell_type": "markdown",
      "source": [
        "Q14"
      ],
      "metadata": {
        "id": "2-D6HDeTxnyt"
      }
    },
    {
      "cell_type": "code",
      "source": [
        "n=int(input(\"enter year\"))\n",
        "\n",
        "if(n%400==0 and n%100==0):\n",
        "    print(n,\"is a leap year\")\n",
        "elif(n%4==0 and n%100!=0):\n",
        "        print(n,\"is a leap year\")\n",
        "else:\n",
        "        print(n,\"is a not leap year\")"
      ],
      "metadata": {
        "id": "1sBu80cyzJ0w"
      },
      "execution_count": null,
      "outputs": []
    },
    {
      "cell_type": "markdown",
      "source": [
        "Q15"
      ],
      "metadata": {
        "id": "EzNe9kAqxo2_"
      }
    },
    {
      "cell_type": "code",
      "source": [
        "def f_to_c(a):\n",
        "    temp=(a-32)*5\n",
        "    return temp/9;\n",
        "\n",
        "def c_to_f(a):\n",
        "    temp=(a*9)/5\n",
        "    return temp+32;\n",
        "\n",
        "n=int(input(\"temp:\"));\n",
        "a=int(input(\"1 for c_to_f and 2 for f_to_c\"))\n",
        "\n",
        "if(a==1):\n",
        "    print(c_to_f(n))\n",
        "elif(a==2):\n",
        "   print( f_to_c(n))"
      ],
      "metadata": {
        "id": "txLA82HSzK4k"
      },
      "execution_count": null,
      "outputs": []
    },
    {
      "cell_type": "markdown",
      "source": [
        "Q16"
      ],
      "metadata": {
        "id": "aywrydIixqNl"
      }
    },
    {
      "cell_type": "code",
      "source": [
        "def factors(a):\n",
        "    print(\"factors of\",a,\"are\")\n",
        "    for i in range(1,a+1):\n",
        "        if(a%i==0):\n",
        "            print(i)\n",
        "    \n",
        "n=int(input(\"enter digit\"))\n",
        "factors(n)"
      ],
      "metadata": {
        "id": "s0-NtNKLzV-8"
      },
      "execution_count": null,
      "outputs": []
    },
    {
      "cell_type": "markdown",
      "source": [
        "Q17"
      ],
      "metadata": {
        "id": "0cMy7EfZxrGP"
      }
    },
    {
      "cell_type": "code",
      "source": [
        "dec = 8\n",
        "\n",
        "print(\"The decimal value of\", dec, \"is:\")\n",
        "print(bin(dec), \"in binary.\")\n",
        "print(oct(dec), \"in octal.\")\n",
        "print(hex(dec), \"in hexadecimal.\")"
      ],
      "metadata": {
        "id": "fjRFJVyzzW5b"
      },
      "execution_count": null,
      "outputs": []
    },
    {
      "cell_type": "markdown",
      "source": [
        "Q18"
      ],
      "metadata": {
        "id": "vd6bXxJmxsRo"
      }
    },
    {
      "cell_type": "code",
      "source": [
        "def fact(n):\n",
        "    if n==1:\n",
        "        return 1\n",
        "    else:\n",
        "        return n*fact(n-1)\n",
        "\n",
        "a=int(input())\n",
        "z=fact(a)\n",
        "print(z)"
      ],
      "metadata": {
        "id": "RBUEqz27zZpw"
      },
      "execution_count": null,
      "outputs": []
    },
    {
      "cell_type": "markdown",
      "source": [
        "Q19"
      ],
      "metadata": {
        "id": "m5r2RjZWxtVi"
      }
    },
    {
      "cell_type": "code",
      "source": [
        "def func(n):\n",
        "    if(n<=1):\n",
        "        return n\n",
        "         \n",
        "    else:\n",
        "        return (func(n-1)+func(n-2))\n",
        "\n",
        "n=int(input())\n",
        "for i in range(1,n):\n",
        "       print(func(i))\n",
        "\n"
      ],
      "metadata": {
        "id": "f8r-UZTZzdBw"
      },
      "execution_count": null,
      "outputs": []
    },
    {
      "cell_type": "markdown",
      "source": [
        "Q20"
      ],
      "metadata": {
        "id": "quI7TVvkxuQD"
      }
    },
    {
      "cell_type": "code",
      "source": [
        "def fact(n):\n",
        "    if n==1:\n",
        "        return 1\n",
        "    else:\n",
        "        return n*fact(n-1)\n",
        "\n",
        "a=int(input())\n",
        "z=fact(a)\n",
        "print(z)"
      ],
      "metadata": {
        "id": "M66zyz70zgtq"
      },
      "execution_count": null,
      "outputs": []
    },
    {
      "cell_type": "markdown",
      "source": [
        "Q21"
      ],
      "metadata": {
        "id": "KQvu7ub9xvgB"
      }
    },
    {
      "cell_type": "code",
      "source": [
        "def recur_sum(n):\n",
        "   if n <= 1:\n",
        "       return n\n",
        "   else:\n",
        "       return n + recur_sum(n-1)\n",
        "\n",
        "num=int(input(\"Enter num:\"))\n",
        "\n",
        "if num < 0:\n",
        "   print(\"Enter a positive number\")\n",
        "else:\n",
        "   print(\"The sum is\",recur_sum(num))"
      ],
      "metadata": {
        "id": "7-wtN66czshC"
      },
      "execution_count": null,
      "outputs": []
    },
    {
      "cell_type": "markdown",
      "source": [
        "Q22"
      ],
      "metadata": {
        "id": "4_9Mdl90xwVE"
      }
    },
    {
      "cell_type": "code",
      "source": [
        "def convertToBinary(n):\n",
        "   if n > 1:\n",
        "       convertToBinary(n//2)\n",
        "   print(n % 2,end = '')\n",
        "\n",
        "dec =int(input(\"enter digit:\"))\n",
        "\n",
        "convertToBinary(dec)\n",
        "print()"
      ],
      "metadata": {
        "id": "yAHtGBBvztsj"
      },
      "execution_count": null,
      "outputs": []
    },
    {
      "cell_type": "markdown",
      "source": [
        "Q23"
      ],
      "metadata": {
        "id": "B-PYdTjBxxEi"
      }
    },
    {
      "cell_type": "code",
      "source": [
        "y=int(input())\n",
        "x=lambda a:a**2\n",
        "print(x(y))"
      ],
      "metadata": {
        "id": "5VdYyW_dzwdZ"
      },
      "execution_count": null,
      "outputs": []
    },
    {
      "cell_type": "markdown",
      "source": [
        "Q24"
      ],
      "metadata": {
        "id": "OCSW89zTxyKU"
      }
    },
    {
      "cell_type": "code",
      "source": [
        "x=lambda r:3.14*r**2\n",
        "y=lambda b,h:0.5*b*h\n",
        "z=lambda r,h:3.14*r*r*h\n",
        "\n",
        "a=int(input(\"enter radius:\"))\n",
        "print(\"area of circle is\",x(a))\n",
        "\n",
        "b=int(input(\"enter base:\"))\n",
        "h=int(input(\"enter height:\"))\n",
        "print(\"area of triangle:\",y(b,h))\n",
        "\n",
        "c=int(input(\"enter radius:\"))\n",
        "h=int(input(\"enter height:\"))\n",
        "print(\"volume of cylinder\",z(c,h))\n"
      ],
      "metadata": {
        "id": "Fc3PSL8jz1cN"
      },
      "execution_count": null,
      "outputs": []
    },
    {
      "cell_type": "markdown",
      "source": [
        "Q25"
      ],
      "metadata": {
        "id": "XI8wCKH5xzEQ"
      }
    },
    {
      "cell_type": "code",
      "source": [
        "mat1=[[1,5,7],\n",
        "      [3,4,6],\n",
        "      [5,10,5]\n",
        "      ]   \n",
        "\n",
        "mat2=[[9,12,1],\n",
        "       [3,4,5],\n",
        "       [3,9,8]]\n",
        "\n",
        "\n",
        "result=[[0,0,0],\n",
        "        [0,0,0],\n",
        "        [0,0,0]]\n",
        "\n",
        "\n",
        "for i in range(len(mat1)):\n",
        "    for j in range(len(mat2[0])):\n",
        "        result[i][j]=mat1[i][j]+mat2[i][j]\n",
        "\n",
        "\n",
        "for x in result:\n",
        "    print(x)"
      ],
      "metadata": {
        "id": "Fkk0nx9Gz2p1"
      },
      "execution_count": null,
      "outputs": []
    },
    {
      "cell_type": "markdown",
      "source": [
        "Q26"
      ],
      "metadata": {
        "id": "W20PvArjx0SB"
      }
    },
    {
      "cell_type": "code",
      "source": [
        "mat1=[[1,5,7],\n",
        "      [3,4,6],\n",
        "      [5,10,5]\n",
        "      ]   \n",
        "\n",
        "mat2=[[9,12,1],\n",
        "       [3,4,5],\n",
        "       [3,9,8]]\n",
        "\n",
        "\n",
        "result=[[0,0,0],\n",
        "        [0,0,0],\n",
        "        [0,0,0]]\n",
        "\n",
        "\n",
        "for i in range(len(mat1)):\n",
        "    for j in range(len(mat2[0])):\n",
        "        for k in range(len(mat2)):\n",
        "            result[i][j]+=mat1[i][k]*mat2[k][j]\n",
        "\n",
        "    \n",
        "\n",
        "\n",
        "for x in result:\n",
        "    print(x)"
      ],
      "metadata": {
        "id": "qwpfQ94zz6bd"
      },
      "execution_count": null,
      "outputs": []
    },
    {
      "cell_type": "markdown",
      "source": [
        "Q27"
      ],
      "metadata": {
        "id": "n-CXedkmx1Zp"
      }
    },
    {
      "cell_type": "code",
      "source": [
        "mat1=[[1,5,7],\n",
        "      [3,4,6],\n",
        "      [5,10,5]\n",
        "      ]   \n",
        "\n",
        "\n",
        "\n",
        "result=[[0,0,0],\n",
        "        [0,0,0],\n",
        "        [0,0,0]]\n",
        "\n",
        "\n",
        "for i in range(len(mat1)):\n",
        "    for j in range(len(mat1[0])):\n",
        "        result[j][i]=mat1[i][j]\n",
        "\n",
        "\n",
        "for x in result:\n",
        "    print(x)"
      ],
      "metadata": {
        "id": "76TrkFiB0Kq3"
      },
      "execution_count": null,
      "outputs": []
    },
    {
      "cell_type": "markdown",
      "source": [
        "Q28"
      ],
      "metadata": {
        "id": "aKDHA8Acx2b8"
      }
    },
    {
      "cell_type": "code",
      "source": [
        "x=list(range(1,11))\n",
        "y=len(x)\n",
        "z=0\n",
        "for i in range(y):\n",
        "    z+=x[i]\n",
        "ans=z/y\n",
        "print(ans)\n",
        "    "
      ],
      "metadata": {
        "id": "DdEouUAg0N_t"
      },
      "execution_count": null,
      "outputs": []
    },
    {
      "cell_type": "markdown",
      "source": [
        "Q29"
      ],
      "metadata": {
        "id": "yrhNoddjx3oP"
      }
    },
    {
      "cell_type": "code",
      "source": [
        "x=list(range(1,11))\n",
        "\n",
        "print(x[2:6])\n",
        "\n",
        "print(x[-4:-1])"
      ],
      "metadata": {
        "id": "_zLF3hyL0PKA"
      },
      "execution_count": null,
      "outputs": []
    },
    {
      "cell_type": "markdown",
      "source": [
        "Q30"
      ],
      "metadata": {
        "id": "ebyaC1Aax4nk"
      }
    },
    {
      "cell_type": "code",
      "source": [
        "list1=[\"hello\",\"yello\",\"pello\"]\n",
        "list2=[\"gel\",\"tell\",\"mell\"]\n",
        "list3=list1+list2\n",
        "print(list3)\n",
        "list1.extend(list2)\n",
        "print(list1)"
      ],
      "metadata": {
        "id": "FNv3CIUV0UIv"
      },
      "execution_count": null,
      "outputs": []
    },
    {
      "cell_type": "markdown",
      "source": [
        "Q31"
      ],
      "metadata": {
        "id": "uE_07H7Mx5lt"
      }
    },
    {
      "cell_type": "code",
      "source": [
        "x=['hell','yell','pell','nell','sell','hell','pell']\n",
        "y=input(\"enter element to find:\")\n",
        "z=False\n",
        "count=[]\n",
        "occ=0\n",
        "\n",
        "for a in range(len(x)):\n",
        "    if(x[a]==y):\n",
        "        z=True\n",
        "        count.append(a)\n",
        "        occ=occ+1\n",
        "\n",
        "if(z):\n",
        "    print(\"yess at \",count,\"occurence\",occ)\n",
        "else:\n",
        "    print(\"noo\")\n",
        "   \n",
        "    "
      ],
      "metadata": {
        "id": "9YDn2iHZ0hH2"
      },
      "execution_count": null,
      "outputs": []
    },
    {
      "cell_type": "markdown",
      "source": [
        "Q32"
      ],
      "metadata": {
        "id": "FQyazEFlx6dw"
      }
    },
    {
      "cell_type": "code",
      "source": [
        "x=['hell','yell','pell','nell','sell','hell','pell']\n",
        "y=input(\"enter element to find:\")\n",
        "z=False\n",
        "count=[]\n",
        "occ=0\n",
        "\n",
        "for a in range(len(x)):\n",
        "    if(x[a]==y):\n",
        "        z=True\n",
        "        count.append(a)\n",
        "        occ=occ+1\n",
        "\n",
        "if(occ>1):\n",
        "    print(\"yess duplicates exist \")\n",
        "else:\n",
        "    print(\"noo duplicates exist\")\n",
        "   \n",
        "    "
      ],
      "metadata": {
        "id": "n6sFJ0z00lOP"
      },
      "execution_count": null,
      "outputs": []
    },
    {
      "cell_type": "markdown",
      "source": [
        "Q33"
      ],
      "metadata": {
        "id": "oi1GVOMyx7Z_"
      }
    },
    {
      "cell_type": "code",
      "source": [
        "dicts={\n",
        "    \"car\":\"maruti\",\n",
        "    \"color\":\"red\"\n",
        "    \n",
        "}\n",
        "for i in dicts.values():\n",
        "    print(i)\n",
        "\n",
        "for i in dicts.keys():\n",
        "    print(i)"
      ],
      "metadata": {
        "id": "B2cMyqvk0ntf"
      },
      "execution_count": null,
      "outputs": []
    },
    {
      "cell_type": "markdown",
      "source": [
        "Q34"
      ],
      "metadata": {
        "id": "G6uzvw-ax8Yr"
      }
    },
    {
      "cell_type": "code",
      "source": [
        "myfamily = {\n",
        "  \"child1\" : {\n",
        "    \"name\" : \"Emil\",\n",
        "    \"year\" : 2004\n",
        "  },\n",
        "  \"child2\" : {\n",
        "    \"name\" : \"Tobias\",\n",
        "    \"year\" : 2007\n",
        "  },\n",
        "  \"child3\" : {\n",
        "    \"name\" : \"Linus\",\n",
        "    \"year\" : 2011\n",
        "  }\n",
        "}\n",
        "\n",
        "print(myfamily)\n"
      ],
      "metadata": {
        "id": "az1fioac0qjq"
      },
      "execution_count": null,
      "outputs": []
    },
    {
      "cell_type": "markdown",
      "source": [
        "Q35"
      ],
      "metadata": {
        "id": "y3SkGypsx9PR"
      }
    },
    {
      "cell_type": "code",
      "execution_count": null,
      "metadata": {
        "colab": {
          "base_uri": "https://localhost:8080/",
          "height": 235
        },
        "id": "_R_8AAwPwkF2",
        "outputId": "71b79229-7011-4673-d11b-9da930554fef"
      },
      "outputs": [
        {
          "output_type": "stream",
          "name": "stdout",
          "text": [
            "{'child1': {'name': 'Emil', 'year': 2004}, 'child2': {'name': 'Linus', 'year': 2011}, 'child3': {'name': 'Tobias', 'year': 2007}}\n"
          ]
        },
        {
          "output_type": "error",
          "ename": "TypeError",
          "evalue": "ignored",
          "traceback": [
            "\u001b[0;31m---------------------------------------------------------------------------\u001b[0m",
            "\u001b[0;31mTypeError\u001b[0m                                 Traceback (most recent call last)",
            "\u001b[0;32m<ipython-input-3-060e38bb0325>\u001b[0m in \u001b[0;36m<module>\u001b[0;34m\u001b[0m\n\u001b[1;32m     17\u001b[0m \u001b[0mprint\u001b[0m\u001b[0;34m(\u001b[0m\u001b[0msorted_dict\u001b[0m\u001b[0;34m)\u001b[0m\u001b[0;34m\u001b[0m\u001b[0;34m\u001b[0m\u001b[0m\n\u001b[1;32m     18\u001b[0m \u001b[0;34m\u001b[0m\u001b[0m\n\u001b[0;32m---> 19\u001b[0;31m \u001b[0mprint\u001b[0m\u001b[0;34m(\u001b[0m\u001b[0msorted\u001b[0m\u001b[0;34m(\u001b[0m\u001b[0mdictionary\u001b[0m\u001b[0;34m.\u001b[0m\u001b[0mitems\u001b[0m\u001b[0;34m(\u001b[0m\u001b[0;34m)\u001b[0m\u001b[0;34m,\u001b[0m \u001b[0mkey\u001b[0m\u001b[0;34m=\u001b[0m\u001b[0;32mlambda\u001b[0m \u001b[0mkv\u001b[0m\u001b[0;34m:\u001b[0m\u001b[0;34m(\u001b[0m\u001b[0mkv\u001b[0m\u001b[0;34m[\u001b[0m\u001b[0;36m1\u001b[0m\u001b[0;34m]\u001b[0m\u001b[0;34m,\u001b[0m \u001b[0mkv\u001b[0m\u001b[0;34m[\u001b[0m\u001b[0;36m0\u001b[0m\u001b[0;34m]\u001b[0m\u001b[0;34m)\u001b[0m\u001b[0;34m)\u001b[0m\u001b[0;34m)\u001b[0m\u001b[0;34m\u001b[0m\u001b[0;34m\u001b[0m\u001b[0m\n\u001b[0m\u001b[1;32m     20\u001b[0m \u001b[0;34m\u001b[0m\u001b[0m\n",
            "\u001b[0;31mTypeError\u001b[0m: '<' not supported between instances of 'dict' and 'dict'"
          ]
        }
      ],
      "source": [
        "dictionary = {\n",
        "  \"child1\" : {\n",
        "    \"name\" : \"Emil\",\n",
        "    \"year\" : 2004\n",
        "  },\n",
        "  \"child3\" : {\n",
        "    \"name\" : \"Tobias\",\n",
        "    \"year\" : 2007\n",
        "  },\n",
        "  \"child2\" : {\n",
        "    \"name\" : \"Linus\",\n",
        "    \"year\" : 2011\n",
        "  }\n",
        "}\n",
        "sorted_keys = sorted(dictionary.keys())\n",
        "sorted_dict = {key:dictionary[key] for key in sorted_keys}\n",
        "print(sorted_dict)\n",
        "\n",
        "print(sorted(dictionary.items(), key=lambda kv:(kv[1], kv[0])))\n",
        " "
      ]
    }
  ]
}